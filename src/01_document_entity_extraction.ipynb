{
 "cells": [
  {
   "cell_type": "code",
   "execution_count": 51,
   "metadata": {},
   "outputs": [
    {
     "name": "stdout",
     "output_type": "stream",
     "text": [
      "The autoreload extension is already loaded. To reload it, use:\n",
      "  %reload_ext autoreload\n"
     ]
    }
   ],
   "source": [
    "%load_ext autoreload\n",
    "%autoreload 2"
   ]
  },
  {
   "cell_type": "code",
   "execution_count": 52,
   "metadata": {},
   "outputs": [],
   "source": [
    "from pathlib import Path\n",
    "import sys, os\n",
    "utils_path = Path(\"C:/Users/shaur/Desktop/Learnings/KG_Tests/senior_living_dm/src/utils\")\n",
    "sys.path.append(str(utils_path))"
   ]
  },
  {
   "cell_type": "code",
   "execution_count": 53,
   "metadata": {},
   "outputs": [],
   "source": [
    "import pandas as pd\n",
    "import numpy as np\n",
    "\n",
    "from pdf2image import convert_from_path\n",
    "from PIL import Image\n",
    "\n",
    "from unstructured.partition.pdf import partition_pdf\n",
    "\n",
    "from langchain_core.documents import Document\n",
    "# from langchain.vectorstores import FAISS\n",
    "\n",
    "from utils import generate_random_name"
   ]
  },
  {
   "cell_type": "markdown",
   "metadata": {},
   "source": [
    "## Define Paths"
   ]
  },
  {
   "cell_type": "code",
   "execution_count": 54,
   "metadata": {},
   "outputs": [],
   "source": [
    "base_path = Path(\"C:/Users/shaur/Desktop/Learnings/KG_Tests/senior_living_dm\")\n",
    "artifacts_path = os.path.join(base_path, \"artifacts\")\n",
    "poppler_path = os.path.join(artifacts_path, \"libraries/Release-23.08.0-0/poppler-23.08.0/Library/bin\")\n",
    "supp_apps_pdfs_dir_path = os.path.join(artifacts_path, \"applications/pdfs\")\n",
    "supp_apps_pngs_dir_path = os.path.join(artifacts_path, \"applications/pngs\")\n",
    "supp_apps_chunked_pngs_dir_path = os.path.join(artifacts_path, \"applications/chunked_pngs\")"
   ]
  },
  {
   "cell_type": "markdown",
   "metadata": {},
   "source": [
    "## PDF to PNG"
   ]
  },
  {
   "cell_type": "code",
   "execution_count": 55,
   "metadata": {},
   "outputs": [],
   "source": [
    "example_pdf_path = os.path.join(supp_apps_pdfs_dir_path, \"amwins_app.pdf\")"
   ]
  },
  {
   "cell_type": "code",
   "execution_count": 56,
   "metadata": {},
   "outputs": [],
   "source": [
    "example_pdf_pages = convert_from_path(pdf_path=example_pdf_path, poppler_path=poppler_path)\n",
    "example_pdf_name = os.path.splitext(os.path.basename(example_pdf_path))[0]\n",
    "c=1\n",
    "for page in example_pdf_pages:\n",
    "    os.makedirs(supp_apps_pngs_dir_path, exist_ok=True)\n",
    "    img_name = f\"{example_pdf_name}_{c}.png\"\n",
    "    page.save(os.path.join(supp_apps_pngs_dir_path, img_name), \"PNG\")\n",
    "    c+=1"
   ]
  },
  {
   "cell_type": "markdown",
   "metadata": {},
   "source": [
    "## Unstructured IO tests"
   ]
  },
  {
   "cell_type": "code",
   "execution_count": 57,
   "metadata": {},
   "outputs": [],
   "source": [
    "elements = partition_pdf(\n",
    "    filename=example_pdf_path,\n",
    "    strategy=\"hi_res\",\n",
    ")"
   ]
  },
  {
   "cell_type": "code",
   "execution_count": 58,
   "metadata": {},
   "outputs": [],
   "source": [
    "documents = []\n",
    "for element in elements:\n",
    "    if len(element.text)<10: continue\n",
    "    metadata = element.metadata.to_dict()\n",
    "    documents.append(Document(page_content=element.text, metadata=metadata))\n",
    "\n",
    "# Chunk images and update documents with chunked img paths\n",
    "c=1\n",
    "for document in documents:\n",
    "    chunk_page_no = document.metadata['page_number']\n",
    "    matched_page_img_name = f\"{example_pdf_name}_{chunk_page_no}.png\"\n",
    "\n",
    "    matched_page_img_path = os.path.join(supp_apps_pngs_dir_path, matched_page_img_name)\n",
    "    matched_page_img = Image.open(matched_page_img_path)\n",
    "\n",
    "    chunked_coords = document.metadata['coordinates']['points']\n",
    "    chunked_region = (chunked_coords[0][0], chunked_coords[0][1], chunked_coords[2][0], chunked_coords[2][1])\n",
    "    chunked_img =  matched_page_img.crop(chunked_region)\n",
    "\n",
    "    os.makedirs(supp_apps_chunked_pngs_dir_path, exist_ok=True)\n",
    "    chunked_img_name = f\"{example_pdf_name}_{c}.png\"\n",
    "    chunked_img_path = os.path.join(supp_apps_chunked_pngs_dir_path, chunked_img_name)\n",
    "    chunked_img.save(chunked_img_path)\n",
    "    document.metadata['chunked_img_path'] = chunked_img_path\n",
    "\n",
    "    c+=1\n"
   ]
  },
  {
   "cell_type": "code",
   "execution_count": null,
   "metadata": {},
   "outputs": [],
   "source": []
  }
 ],
 "metadata": {
  "kernelspec": {
   "display_name": "kg_env",
   "language": "python",
   "name": "python3"
  },
  "language_info": {
   "codemirror_mode": {
    "name": "ipython",
    "version": 3
   },
   "file_extension": ".py",
   "mimetype": "text/x-python",
   "name": "python",
   "nbconvert_exporter": "python",
   "pygments_lexer": "ipython3",
   "version": "3.10.0"
  }
 },
 "nbformat": 4,
 "nbformat_minor": 2
}
