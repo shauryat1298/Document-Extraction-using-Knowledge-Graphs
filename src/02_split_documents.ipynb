{
 "cells": [
  {
   "cell_type": "code",
   "execution_count": 1,
   "metadata": {},
   "outputs": [],
   "source": [
    "%load_ext autoreload\n",
    "%autoreload 2"
   ]
  },
  {
   "cell_type": "code",
   "execution_count": 2,
   "metadata": {},
   "outputs": [],
   "source": [
    "from pathlib import Path\n",
    "import sys, os\n",
    "utils_path = Path(\"C:/Users/shaur/Desktop/Learnings/KG_Tests/senior_living_dm/src/utils\")\n",
    "sys.path.append(str(utils_path))"
   ]
  },
  {
   "cell_type": "code",
   "execution_count": 3,
   "metadata": {},
   "outputs": [],
   "source": [
    "import pandas as pd\n",
    "import numpy as np\n",
    "\n",
    "from glob import glob\n",
    "\n",
    "from dotenv import load_dotenv\n",
    "from openai import OpenAI\n",
    "import json\n",
    "\n",
    "from pdf2image import convert_from_path\n",
    "from PIL import Image\n",
    "\n",
    "from langchain_core.documents import Document\n",
    "# from langchain.vectorstores import FAISS\n",
    "\n",
    "from utils import generate_random_name\n",
    "from call_gpt4o import call_openai_endpoint"
   ]
  },
  {
   "cell_type": "markdown",
   "metadata": {},
   "source": [
    "## Define Paths"
   ]
  },
  {
   "cell_type": "code",
   "execution_count": 4,
   "metadata": {},
   "outputs": [],
   "source": [
    "base_path = Path(\"C:/Users/shaur/Desktop/Learnings/KG_Tests/senior_living_dm\")\n",
    "artifacts_path = os.path.join(base_path, \"artifacts\")\n",
    "poppler_path = os.path.join(artifacts_path, \"libraries/Release-23.08.0-0/poppler-23.08.0/Library/bin\")\n",
    "supp_apps_pdfs_dir_path = os.path.join(artifacts_path, \"applications/pdfs\")\n",
    "supp_apps_pngs_dir_path = os.path.join(artifacts_path, \"applications/pngs\")\n",
    "supp_apps_chunked_pngs_dir_path = os.path.join(artifacts_path, \"applications/chunked_pngs\")"
   ]
  },
  {
   "cell_type": "markdown",
   "metadata": {},
   "source": [
    "## PDF to PNG"
   ]
  },
  {
   "cell_type": "code",
   "execution_count": 5,
   "metadata": {},
   "outputs": [],
   "source": [
    "example_pdf_path = os.path.join(supp_apps_pdfs_dir_path, \"crc_app.pdf\")"
   ]
  },
  {
   "cell_type": "code",
   "execution_count": 6,
   "metadata": {},
   "outputs": [],
   "source": [
    "# example_pdf_pages = convert_from_path(pdf_path=example_pdf_path, poppler_path=poppler_path)\n",
    "# example_pdf_name = os.path.splitext(os.path.basename(example_pdf_path))[0]\n",
    "# c=1\n",
    "# for page in example_pdf_pages:\n",
    "#     os.makedirs(supp_apps_pngs_dir_path, exist_ok=True)\n",
    "#     img_name = f\"{example_pdf_name}_{c}.png\"\n",
    "#     page.save(os.path.join(supp_apps_pngs_dir_path, img_name), \"PNG\")\n",
    "#     c+=1"
   ]
  },
  {
   "cell_type": "markdown",
   "metadata": {},
   "source": [
    "## Split PNGs"
   ]
  },
  {
   "cell_type": "code",
   "execution_count": 6,
   "metadata": {},
   "outputs": [],
   "source": [
    "def split_img(n:int, alpha:int) -> None:\n",
    "\n",
    "    for page_img_name in os.listdir(supp_apps_pngs_dir_path):\n",
    "        page_img_path = os.path.join(supp_apps_pngs_dir_path, page_img_name)\n",
    "        page_img = Image.open(page_img_path)\n",
    "        w, h = page_img.size\n",
    "\n",
    "        overlap = h * alpha // 100\n",
    "        h = h//n\n",
    "        \n",
    "\n",
    "        for i in range(1, n+1):\n",
    "            chunked_img_name = page_img_name.replace(\".png\", f\"_{i}.png\")\n",
    "            chunked_img_path = os.path.join(supp_apps_chunked_pngs_dir_path, chunked_img_name)\n",
    "            if i==1:\n",
    "                chunked_img = page_img.crop((0, 0, w, h+overlap))\n",
    "            elif i==n:\n",
    "                chunked_img = page_img.crop((0, h*(i-1)-overlap, w, h*i))\n",
    "            else:\n",
    "                chunked_img = page_img.crop((0, h*(i-1)-overlap, w, h*i+overlap))\n",
    "            os.makedirs(supp_apps_chunked_pngs_dir_path, exist_ok=True)\n",
    "            chunked_img.save(chunked_img_path)"
   ]
  },
  {
   "cell_type": "code",
   "execution_count": 7,
   "metadata": {},
   "outputs": [],
   "source": [
    "# split_img(n=5, alpha=5)"
   ]
  },
  {
   "cell_type": "markdown",
   "metadata": {},
   "source": [
    "## Test Open AI"
   ]
  },
  {
   "cell_type": "code",
   "execution_count": 8,
   "metadata": {},
   "outputs": [],
   "source": [
    "example_png_path = os.path.join(supp_apps_chunked_pngs_dir_path, \"crc_app_2_2.png\")\n",
    "\n",
    "ans = call_openai_endpoint(example_png_path)"
   ]
  },
  {
   "cell_type": "code",
   "execution_count": 9,
   "metadata": {},
   "outputs": [
    {
     "name": "stdout",
     "output_type": "stream",
     "text": [
      "{\n",
      "  \"sub_acute_short_term_rehab\": {\n",
      "    \"total_licensed_beds\": 23,\n",
      "    \"average_annual_occupancy\": 10\n",
      "  },\n",
      "  \"skilled_nursing_intermediate_care\": {\n",
      "    \"total_licensed_beds\": 15,\n",
      "    \"average_annual_occupancy\": 20\n",
      "  },\n",
      "  \"assisted_living\": {\n",
      "    \"total_licensed_beds\": 32,\n",
      "    \"average_annual_occupancy\": 12\n",
      "  },\n",
      "  \"independent_care\": {\n",
      "    \"total_units\": 5,\n",
      "    \"total_residents_at_full_occupancy\": 65,\n",
      "    \"common_dining_facilities\": true,\n",
      "    \"individual_units_have_cooking_appliances\": true\n",
      "  }\n",
      "}\n"
     ]
    }
   ],
   "source": [
    "print(ans)"
   ]
  },
  {
   "cell_type": "code",
   "execution_count": null,
   "metadata": {},
   "outputs": [],
   "source": []
  }
 ],
 "metadata": {
  "kernelspec": {
   "display_name": "kg_env",
   "language": "python",
   "name": "python3"
  },
  "language_info": {
   "codemirror_mode": {
    "name": "ipython",
    "version": 3
   },
   "file_extension": ".py",
   "mimetype": "text/x-python",
   "name": "python",
   "nbconvert_exporter": "python",
   "pygments_lexer": "ipython3",
   "version": "3.10.0"
  }
 },
 "nbformat": 4,
 "nbformat_minor": 2
}
