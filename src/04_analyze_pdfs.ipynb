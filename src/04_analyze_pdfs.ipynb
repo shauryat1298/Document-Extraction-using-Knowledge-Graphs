{
 "cells": [
  {
   "cell_type": "code",
   "execution_count": 1,
   "metadata": {},
   "outputs": [],
   "source": [
    "%load_ext autoreload\n",
    "%autoreload 2"
   ]
  },
  {
   "cell_type": "code",
   "execution_count": 2,
   "metadata": {},
   "outputs": [],
   "source": [
    "from pathlib import Path\n",
    "import sys, os\n",
    "utils_path = Path(\"C:/Users/shaur/Desktop/Learnings/KG_Tests/senior_living_dm/src/utils\")\n",
    "sys.path.append(str(utils_path))"
   ]
  },
  {
   "cell_type": "code",
   "execution_count": 4,
   "metadata": {},
   "outputs": [],
   "source": [
    "import os\n",
    "from pdfminer.high_level import extract_text_to_fp\n",
    "from pdfminer.layout import LAParams\n",
    "from io import StringIO"
   ]
  },
  {
   "cell_type": "code",
   "execution_count": 5,
   "metadata": {},
   "outputs": [],
   "source": [
    "def convert_pdf_to_html(pdf_path, html_path):\n",
    "    output_string = StringIO()\n",
    "    with open(pdf_path, 'rb') as fin:\n",
    "        extract_text_to_fp(fin, output_string, laparams=LAParams(), output_type='html', codec=None)\n",
    "    \n",
    "    # Create the directory if it doesn't exist\n",
    "    os.makedirs(os.path.dirname(html_path), exist_ok=True)\n",
    "    \n",
    "    with open(html_path, 'w', encoding='utf-8') as fout:\n",
    "        fout.write(output_string.getvalue())\n",
    "\n",
    "# Usage\n",
    "pdf_file = 'C:/Users/shaur/Desktop/Learnings/KG_Tests/senior_living_dm/artifacts/applications/pdfs/amwins_app.pdf'\n",
    "html_file = 'C:/Users/shaur/Desktop/Learnings/KG_Tests/senior_living_dm/artifacts/applications/pdf_htmls/amwins_app.html'\n",
    "convert_pdf_to_html(pdf_file, html_file)"
   ]
  },
  {
   "cell_type": "code",
   "execution_count": null,
   "metadata": {},
   "outputs": [],
   "source": []
  }
 ],
 "metadata": {
  "kernelspec": {
   "display_name": "kg_env",
   "language": "python",
   "name": "python3"
  },
  "language_info": {
   "codemirror_mode": {
    "name": "ipython",
    "version": 3
   },
   "file_extension": ".py",
   "mimetype": "text/x-python",
   "name": "python",
   "nbconvert_exporter": "python",
   "pygments_lexer": "ipython3",
   "version": "3.10.0"
  }
 },
 "nbformat": 4,
 "nbformat_minor": 2
}
