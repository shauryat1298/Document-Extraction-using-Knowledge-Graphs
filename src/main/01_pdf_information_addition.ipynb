{
 "cells": [
  {
   "cell_type": "code",
   "execution_count": 1,
   "metadata": {},
   "outputs": [],
   "source": [
    "%load_ext autoreload\n",
    "%autoreload 2"
   ]
  },
  {
   "cell_type": "code",
   "execution_count": 2,
   "metadata": {},
   "outputs": [],
   "source": [
    "from pathlib import Path\n",
    "import sys, os\n",
    "utils_path = Path(\"C:/Users/shaur/Desktop/Learnings/KG_Tests/senior_living_dm/src/utils\")\n",
    "sys.path.append(str(utils_path))"
   ]
  },
  {
   "cell_type": "code",
   "execution_count": 34,
   "metadata": {},
   "outputs": [],
   "source": [
    "import pandas as pd\n",
    "import numpy as np\n",
    "\n",
    "import json\n",
    "\n",
    "import fitz"
   ]
  },
  {
   "cell_type": "markdown",
   "metadata": {},
   "source": [
    "## Define Paths"
   ]
  },
  {
   "cell_type": "code",
   "execution_count": 13,
   "metadata": {},
   "outputs": [],
   "source": [
    "base_path = Path(\"C:/Users/shaur/Desktop/Learnings/KG_Tests/senior_living_dm\")\n",
    "artifacts_path = os.path.join(base_path, \"artifacts\")\n",
    "apps_path = os.path.join(artifacts_path, \"applications\")\n",
    "app_pdfs_path = os.path.join(apps_path, \"pdfs\")\n",
    "\n",
    "test_results_path = os.path.join(apps_path, \"test_results\")"
   ]
  },
  {
   "cell_type": "markdown",
   "metadata": {},
   "source": [
    "### Input information"
   ]
  },
  {
   "cell_type": "code",
   "execution_count": 7,
   "metadata": {},
   "outputs": [],
   "source": [
    "example_pdf_mre_path = os.path.join(app_pdfs_path, \"mre_app.pdf\")"
   ]
  },
  {
   "cell_type": "markdown",
   "metadata": {},
   "source": [
    "### Bounding Box measurement"
   ]
  },
  {
   "cell_type": "code",
   "execution_count": 26,
   "metadata": {},
   "outputs": [],
   "source": [
    "example_pdf = fitz.open(example_pdf_mre_path)"
   ]
  },
  {
   "cell_type": "code",
   "execution_count": 45,
   "metadata": {},
   "outputs": [
    {
     "ename": "AttributeError",
     "evalue": "'Widget' object has no attribute 'update_appearance'",
     "output_type": "error",
     "traceback": [
      "\u001b[1;31m---------------------------------------------------------------------------\u001b[0m",
      "\u001b[1;31mAttributeError\u001b[0m                            Traceback (most recent call last)",
      "Cell \u001b[1;32mIn[45], line 64\u001b[0m\n\u001b[0;32m     44\u001b[0m form_data \u001b[38;5;241m=\u001b[39m {\u001b[38;5;124m'\u001b[39m\u001b[38;5;124mSECTION I GENERAL INFORMATION\u001b[39m\u001b[38;5;124m'\u001b[39m: \u001b[38;5;28;01mTrue\u001b[39;00m,\n\u001b[0;32m     45\u001b[0m  \u001b[38;5;124m'\u001b[39m\u001b[38;5;124mNew Applicant\u001b[39m\u001b[38;5;124m'\u001b[39m: \u001b[38;5;28;01mFalse\u001b[39;00m,\n\u001b[0;32m     46\u001b[0m  \u001b[38;5;124m'\u001b[39m\u001b[38;5;124mRenewal If Renewal POLICY NUMBER\u001b[39m\u001b[38;5;124m'\u001b[39m: \u001b[38;5;124m'\u001b[39m\u001b[38;5;124m1211\u001b[39m\u001b[38;5;124m'\u001b[39m,\n\u001b[1;32m   (...)\u001b[0m\n\u001b[0;32m     60\u001b[0m  \u001b[38;5;124m'\u001b[39m\u001b[38;5;124mNumber of years under current ownership\u001b[39m\u001b[38;5;124m'\u001b[39m: \u001b[38;5;124m'\u001b[39m\u001b[38;5;124m7\u001b[39m\u001b[38;5;124m'\u001b[39m\n\u001b[0;32m     61\u001b[0m }\n\u001b[0;32m     62\u001b[0m output_path \u001b[38;5;241m=\u001b[39m os\u001b[38;5;241m.\u001b[39mpath\u001b[38;5;241m.\u001b[39mjoin(test_results_path, \u001b[38;5;124m\"\u001b[39m\u001b[38;5;124mfilled_form_with_boxes.pdf\u001b[39m\u001b[38;5;124m\"\u001b[39m)\n\u001b[1;32m---> 64\u001b[0m \u001b[43mfill_form_draw_boxes_and_save\u001b[49m\u001b[43m(\u001b[49m\u001b[43mpdf_path\u001b[49m\u001b[43m,\u001b[49m\u001b[43m \u001b[49m\u001b[43mform_data\u001b[49m\u001b[43m,\u001b[49m\u001b[43m \u001b[49m\u001b[43moutput_path\u001b[49m\u001b[43m,\u001b[49m\u001b[43m \u001b[49m\u001b[43mstyle_options\u001b[49m\u001b[43m)\u001b[49m\n",
      "Cell \u001b[1;32mIn[45], line 26\u001b[0m, in \u001b[0;36mfill_form_draw_boxes_and_save\u001b[1;34m(pdf_path, form_data, output_path, style_options)\u001b[0m\n\u001b[0;32m     23\u001b[0m             \u001b[38;5;28;01mif\u001b[39;00m \u001b[38;5;124m\"\u001b[39m\u001b[38;5;124malign\u001b[39m\u001b[38;5;124m\"\u001b[39m \u001b[38;5;129;01min\u001b[39;00m style_options:\n\u001b[0;32m     24\u001b[0m                 widget\u001b[38;5;241m.\u001b[39mtext_format \u001b[38;5;241m=\u001b[39m style_options[\u001b[38;5;124m\"\u001b[39m\u001b[38;5;124malign\u001b[39m\u001b[38;5;124m\"\u001b[39m]\n\u001b[1;32m---> 26\u001b[0m             \u001b[43mwidget\u001b[49m\u001b[38;5;241;43m.\u001b[39;49m\u001b[43mupdate_appearance\u001b[49m()\n\u001b[0;32m     29\u001b[0m doc\u001b[38;5;241m.\u001b[39msave(output_path)\n\u001b[0;32m     30\u001b[0m doc\u001b[38;5;241m.\u001b[39mclose()\n",
      "\u001b[1;31mAttributeError\u001b[0m: 'Widget' object has no attribute 'update_appearance'"
     ]
    }
   ],
   "source": [
    "def fill_form_draw_boxes_and_save(pdf_path, form_data, output_path, style_options=None):\n",
    "    doc = fitz.open(pdf_path)\n",
    "    page = doc[0]  # Assuming the form is on the first page\n",
    "\n",
    "    if style_options is None:\n",
    "        style_options = {}\n",
    "\n",
    "    for field_name, value in form_data.items():\n",
    "        for widget in page.widgets():\n",
    "            if widget.field_name == field_name:\n",
    "                if isinstance(value, bool):\n",
    "                    widget.field_value = \"Yes\" if value else \"Off\"\n",
    "                else:\n",
    "                    widget.field_value = str(value)\n",
    "                \n",
    "                # Apply styling options\n",
    "                if \"text_color\" in style_options:\n",
    "                    widget.text_color = style_options[\"text_color\"]\n",
    "                if \"font\" in style_options:\n",
    "                    widget.text_font = style_options[\"font\"]\n",
    "                if \"fontsize\" in style_options:\n",
    "                    widget.text_fontsize = style_options[\"fontsize\"]\n",
    "                if \"align\" in style_options:\n",
    "                    widget.text_format = style_options[\"align\"]\n",
    "                \n",
    "                widget.update()\n",
    "\n",
    "\n",
    "    doc.save(output_path)\n",
    "    doc.close()\n",
    "\n",
    "    print(f\"Filled form saved to: {output_path}\")\n",
    "\n",
    "# Example usage with styling options\n",
    "style_options = {\n",
    "    \"text_color\": [0, 0, 0],  # Red color (RGB)\n",
    "    \"font\": \"Verdana\",\n",
    "    \"fontsize\": 10,\n",
    "    \"align\": 1  # 0: left, 1: center, 2: right\n",
    "}\n",
    "\n",
    "# Example usage\n",
    "pdf_path = example_pdf_mre_path\n",
    "form_data = {'SECTION I GENERAL INFORMATION': True,\n",
    " 'New Applicant': False,\n",
    " 'Renewal If Renewal POLICY NUMBER': '1211',\n",
    " 'Employers Federal Tax ID FEIN': '12-12211',\n",
    " 'CorporateParent Name dba': 'Senior Living LLC',\n",
    " 'Corporate Address': '1234 Northside Blvd',\n",
    " 'City': 'Richardson',\n",
    " 'State': 'TX',\n",
    " 'Zip Code': '75080',\n",
    " 'Website': 'seniorliving.com',\n",
    " 'Contact Person': 'Aman Sood',\n",
    " 'Title': 'Admin',\n",
    " 'Email': 'amansood@gmail.com',\n",
    " 'Phone': '+18329274233',\n",
    " 'Fax': '',\n",
    " 'Number of years the organization is in operation': '7',\n",
    " 'Number of years under current ownership': '7'\n",
    "}\n",
    "output_path = os.path.join(test_results_path, \"filled_form_with_boxes.pdf\")\n",
    "\n",
    "fill_form_draw_boxes_and_save(pdf_path, form_data, output_path, style_options)"
   ]
  },
  {
   "cell_type": "code",
   "execution_count": null,
   "metadata": {},
   "outputs": [],
   "source": []
  }
 ],
 "metadata": {
  "kernelspec": {
   "display_name": "kg_env",
   "language": "python",
   "name": "python3"
  },
  "language_info": {
   "codemirror_mode": {
    "name": "ipython",
    "version": 3
   },
   "file_extension": ".py",
   "mimetype": "text/x-python",
   "name": "python",
   "nbconvert_exporter": "python",
   "pygments_lexer": "ipython3",
   "version": "3.10.0"
  }
 },
 "nbformat": 4,
 "nbformat_minor": 2
}
